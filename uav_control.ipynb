{
 "cells": [
  {
   "cell_type": "code",
   "execution_count": 1,
   "metadata": {},
   "outputs": [],
   "source": [
    "import numpy as np\n",
    "import matplotlib.pyplot as plt\n",
    "import random\n",
    "import gym\n",
    "from gym import spaces"
   ]
  },
  {
   "cell_type": "code",
   "execution_count": 2,
   "metadata": {},
   "outputs": [],
   "source": [
    "class UAV_env(gym.Env):\n",
    "    def __init__(self):\n",
    "        # UAV parameters\n",
    "        self.m = 1.56  # Mass (kg)\n",
    "        self.Jyy = 0.0576  # Moment of inertia (kg-m^2)\n",
    "        self.CL = lambda a: (3.5*a) + 0.09  # Lift coefficient\n",
    "        self.CD = lambda a: (0.2*a) + 0.016  # Drag coefficient\n",
    "        self.CLdelta = 0.27  # Lift coefficient derivative\n",
    "        self.Cm0 = -0.02  # Pitching moment coefficient at zero angle of attack\n",
    "        self.Cmalpha = -0.57  # Pitching moment coefficient derivative\n",
    "        self.Cmq = -1.4  # Pitching moment coefficient derivative\n",
    "        self.Cmdelta = -0.32  # Pitching moment coefficient derivative\n",
    "\n",
    "        # Initial state\n",
    "        self.X0 = np.array([9.96, 0.87, 0, 0.0873, 50])  # [u, w, q, theta, h]\n",
    "        self.U0 = np.array([1.0545, -0.2179])  # [T, delta]\n",
    "\n",
    "        # Desired final state\n",
    "        self.Xd = np.array([9.85, 1.74, 0, 0.1745, 62])\n",
    "\n",
    "        # State and control constraints\n",
    "        self.T_min = 0\n",
    "        self.T_max = 4\n",
    "        self.delta_min = -0.4363\n",
    "        self.delta_max = 0.1745\n",
    "        self.Va_min = 5\n",
    "        self.Va_max = 15\n",
    "        self.alpha_min = 0\n",
    "        self.alpha_max = 0.2618\n",
    "\n",
    "        # Simulation time\n",
    "        self.dt = 0.02  # Sampling time (seconds)\n",
    "        self.t_final = 10  # Final time (seconds)\n",
    "        self.t = 0\n",
    "\n",
    "        # Define action and observation spaces\n",
    "        self.action_space = spaces.Box(low=np.array([self.T_min, self.delta_min]), high=np.array([self.T_max, self.delta_max]), dtype=np.float32) # Continuous action space\n",
    "        \n",
    "        # self.action_space = spaces.MultiDiscrete([2, 2]) # Discrete action space\n",
    "        # self.action_space.n = 4\n",
    "        # self.transform = lambda a: np.array([self.T_max-self.T_min, self.delta_max-self.delta_min])*a + np.array([self.T_min, self.delta_min])\n",
    "        \n",
    "        self.observation_space = spaces.Box(low=-np.inf, high=np.inf, shape=(5,), dtype=np.float32)\n",
    "\n",
    "        self.state = None\n",
    "\n",
    "    def dynamics(self, X, U):\n",
    "        u, w, q, theta, h = X       # States\n",
    "        T, delta = U                # Controls\n",
    "        # T, delta = self.transform(U) # Transform discrete action \n",
    "\n",
    "        Va = np.sqrt(u**2 + w**2)   # Airspeed (need to check this to keep within constraints)\n",
    "        alpha = np.arctan(w / u)    # Angle of attack (need to check this to keep within constraints)\n",
    "\n",
    "        CL = self.CL(alpha)         # Lift coefficient\n",
    "        CD = self.CD(alpha)         # Drag coefficient\n",
    "\n",
    "        udot = (-q*w) + (0.5*Va**2/self.m) * (CL*np.sin(alpha) - CD*np.cos(alpha) + self.CLdelta*np.sin(alpha)*delta) - (9.81*np.sin(theta)) + (T/self.m)\n",
    "        wdot = (q*u) + (0.5*Va**2/self.m) * (-CL*np.cos(alpha) - CD*np.sin(alpha) - self.CLdelta*np.cos(alpha)*delta) + (9.81*np.cos(theta))\n",
    "        qdot = (0.5*Va**2/self.Jyy) * (self.Cm0 + self.Cmalpha*alpha + (0.25*self.Cmq*q/Va) + self.Cmdelta*delta)\n",
    "        thetadot = q\n",
    "        hdot = (-u*np.sin(theta)) + (w*np.cos(theta))\n",
    "\n",
    "        return np.array([udot, wdot, qdot, thetadot, hdot]) # Return state derivatives\n",
    "\n",
    "    def step(self, action):\n",
    "        # action = np.clip(action, self.action_space.low, self.action_space.high)\n",
    "        self.state = self.integrate(self.state, action) \n",
    "        u, w, _, _, _ = self.state\n",
    "        Va = np.sqrt(u**2 + w**2)\n",
    "        alpha = np.arctan(w / u)\n",
    "        if Va < self.Va_min or Va > self.Va_max or alpha < self.alpha_min or alpha > self.alpha_max:\n",
    "            reward = -np.inf  # Penalize out of bounds states\n",
    "            done = True\n",
    "        reward = -np.sum(np.abs(self.state - self.Xd)) # Negative sum of absolute state errors\n",
    "        done = False\n",
    "        if self.t >= 10:\n",
    "            done = True\n",
    "        info = {} # store additional metadata for debugging \n",
    "        return self.state, reward, done, info\n",
    "\n",
    "    def reset(self):\n",
    "        self.state = np.copy(self.X0)\n",
    "        self.t = 0\n",
    "        return self.state\n",
    "\n",
    "    def integrate(self, X, U):\n",
    "        X_dot = self.dynamics(X, U)\n",
    "        X += self.dt * X_dot\n",
    "        self.t += self.dt\n",
    "        return X\n",
    "\n",
    "    def render(self, mode='human'):\n",
    "        # print(self.state)  \n",
    "        pass"
   ]
  },
  {
   "cell_type": "code",
   "execution_count": 3,
   "metadata": {},
   "outputs": [
    {
     "name": "stderr",
     "output_type": "stream",
     "text": [
      "c:\\Users\\ASUS\\anaconda3\\envs\\ml\\Lib\\site-packages\\gym\\spaces\\box.py:127: UserWarning: \u001b[33mWARN: Box bound precision lowered by casting to float32\u001b[0m\n",
      "  logger.warn(f\"Box bound precision lowered by casting to {self.dtype}\")\n",
      "C:\\Users\\ASUS\\AppData\\Local\\Temp\\ipykernel_13216\\2049546570.py:70: RuntimeWarning: overflow encountered in scalar power\n",
      "  Va = np.sqrt(u**2 + w**2)\n",
      "C:\\Users\\ASUS\\AppData\\Local\\Temp\\ipykernel_13216\\2049546570.py:52: RuntimeWarning: overflow encountered in scalar power\n",
      "  Va = np.sqrt(u**2 + w**2)   # Airspeed (need to check this to keep within constraints)\n",
      "C:\\Users\\ASUS\\AppData\\Local\\Temp\\ipykernel_13216\\2049546570.py:58: RuntimeWarning: overflow encountered in scalar multiply\n",
      "  udot = (-q*w) + (0.5*Va**2/self.m) * (CL*np.sin(alpha) - CD*np.cos(alpha) + self.CLdelta*np.sin(alpha)*delta) - (9.81*np.sin(theta)) + (T/self.m)\n",
      "C:\\Users\\ASUS\\AppData\\Local\\Temp\\ipykernel_13216\\2049546570.py:59: RuntimeWarning: overflow encountered in scalar multiply\n",
      "  wdot = (q*u) + (0.5*Va**2/self.m) * (-CL*np.cos(alpha) - CD*np.sin(alpha) - self.CLdelta*np.cos(alpha)*delta) + (9.81*np.cos(theta))\n",
      "C:\\Users\\ASUS\\AppData\\Local\\Temp\\ipykernel_13216\\2049546570.py:71: RuntimeWarning: invalid value encountered in scalar divide\n",
      "  alpha = np.arctan(w / u)\n",
      "C:\\Users\\ASUS\\AppData\\Local\\Temp\\ipykernel_13216\\2049546570.py:53: RuntimeWarning: invalid value encountered in scalar divide\n",
      "  alpha = np.arctan(w / u)    # Angle of attack (need to check this to keep within constraints)\n",
      "C:\\Users\\ASUS\\AppData\\Local\\Temp\\ipykernel_13216\\2049546570.py:60: RuntimeWarning: invalid value encountered in scalar divide\n",
      "  qdot = (0.5*Va**2/self.Jyy) * (self.Cm0 + self.Cmalpha*alpha + (0.25*self.Cmq*q/Va) + self.Cmdelta*delta)\n",
      "C:\\Users\\ASUS\\AppData\\Local\\Temp\\ipykernel_13216\\2049546570.py:62: RuntimeWarning: invalid value encountered in scalar add\n",
      "  hdot = (-u*np.sin(theta)) + (w*np.cos(theta))\n",
      "C:\\Users\\ASUS\\AppData\\Local\\Temp\\ipykernel_13216\\2049546570.py:58: RuntimeWarning: invalid value encountered in sin\n",
      "  udot = (-q*w) + (0.5*Va**2/self.m) * (CL*np.sin(alpha) - CD*np.cos(alpha) + self.CLdelta*np.sin(alpha)*delta) - (9.81*np.sin(theta)) + (T/self.m)\n",
      "C:\\Users\\ASUS\\AppData\\Local\\Temp\\ipykernel_13216\\2049546570.py:59: RuntimeWarning: invalid value encountered in cos\n",
      "  wdot = (q*u) + (0.5*Va**2/self.m) * (-CL*np.cos(alpha) - CD*np.sin(alpha) - self.CLdelta*np.cos(alpha)*delta) + (9.81*np.cos(theta))\n",
      "C:\\Users\\ASUS\\AppData\\Local\\Temp\\ipykernel_13216\\2049546570.py:62: RuntimeWarning: invalid value encountered in sin\n",
      "  hdot = (-u*np.sin(theta)) + (w*np.cos(theta))\n",
      "C:\\Users\\ASUS\\AppData\\Local\\Temp\\ipykernel_13216\\2049546570.py:62: RuntimeWarning: invalid value encountered in cos\n",
      "  hdot = (-u*np.sin(theta)) + (w*np.cos(theta))\n"
     ]
    },
    {
     "name": "stdout",
     "output_type": "stream",
     "text": [
      "Episode:1 Score:nan\n",
      "Episode:2 Score:nan\n",
      "Episode:3 Score:nan\n",
      "Episode:4 Score:-13897.12656677836\n"
     ]
    },
    {
     "name": "stderr",
     "output_type": "stream",
     "text": [
      "C:\\Users\\ASUS\\AppData\\Local\\Temp\\ipykernel_13216\\2049546570.py:59: RuntimeWarning: invalid value encountered in scalar add\n",
      "  wdot = (q*u) + (0.5*Va**2/self.m) * (-CL*np.cos(alpha) - CD*np.sin(alpha) - self.CLdelta*np.cos(alpha)*delta) + (9.81*np.cos(theta))\n",
      "C:\\Users\\ASUS\\AppData\\Local\\Temp\\ipykernel_13216\\2049546570.py:58: RuntimeWarning: invalid value encountered in scalar add\n",
      "  udot = (-q*w) + (0.5*Va**2/self.m) * (CL*np.sin(alpha) - CD*np.cos(alpha) + self.CLdelta*np.sin(alpha)*delta) - (9.81*np.sin(theta)) + (T/self.m)\n"
     ]
    },
    {
     "name": "stdout",
     "output_type": "stream",
     "text": [
      "Episode:5 Score:nan\n",
      "Episode:6 Score:nan\n",
      "Episode:7 Score:nan\n",
      "Episode:8 Score:nan\n",
      "Episode:9 Score:-10577.304527925873\n",
      "Episode:10 Score:-9900.034388235652\n"
     ]
    }
   ],
   "source": [
    "env = UAV_env()\n",
    "num_episodes = 10\n",
    "for episode in range(num_episodes):\n",
    "    state = env.reset()\n",
    "    done = False\n",
    "    score = 0\n",
    "    while not done:\n",
    "        if env.t == 0:\n",
    "            action = env.U0\n",
    "        else:\n",
    "            # action = DQN(state)  # Use DQN in keras-rl2 to get our actual action policy\n",
    "            action = env.action_space.sample()\n",
    "        state, reward, done, info = env.step(action)\n",
    "        score += reward\n",
    "    print('Episode:{} Score:{}'.format(episode+1, score))\n",
    "env.close()"
   ]
  },
  {
   "cell_type": "code",
   "execution_count": 4,
   "metadata": {},
   "outputs": [
    {
     "ename": "OSError",
     "evalue": "[WinError 127] The specified procedure could not be found. Error loading \"c:\\Users\\ASUS\\anaconda3\\envs\\ml\\Lib\\site-packages\\torch\\lib\\shm.dll\" or one of its dependencies.",
     "output_type": "error",
     "traceback": [
      "\u001b[1;31m---------------------------------------------------------------------------\u001b[0m",
      "\u001b[1;31mOSError\u001b[0m                                   Traceback (most recent call last)",
      "Cell \u001b[1;32mIn[4], line 1\u001b[0m\n\u001b[1;32m----> 1\u001b[0m \u001b[38;5;28;01mimport\u001b[39;00m \u001b[38;5;21;01mtorchrl\u001b[39;00m \u001b[38;5;28;01mas\u001b[39;00m \u001b[38;5;21;01mtrl\u001b[39;00m\n\u001b[0;32m      2\u001b[0m \u001b[38;5;28;01mfrom\u001b[39;00m \u001b[38;5;21;01mtorchrl\u001b[39;00m\u001b[38;5;21;01m.\u001b[39;00m\u001b[38;5;21;01menvs\u001b[39;00m\u001b[38;5;21;01m.\u001b[39;00m\u001b[38;5;21;01mlibs\u001b[39;00m\u001b[38;5;21;01m.\u001b[39;00m\u001b[38;5;21;01mgym\u001b[39;00m \u001b[38;5;28;01mimport\u001b[39;00m GymEnv\n\u001b[0;32m      3\u001b[0m \u001b[38;5;28;01mimport\u001b[39;00m \u001b[38;5;21;01mtorch\u001b[39;00m\n",
      "File \u001b[1;32mc:\\Users\\ASUS\\anaconda3\\envs\\ml\\Lib\\site-packages\\torchrl\\__init__.py:8\u001b[0m\n\u001b[0;32m      5\u001b[0m \u001b[38;5;28;01mimport\u001b[39;00m \u001b[38;5;21;01mos\u001b[39;00m\n\u001b[0;32m      6\u001b[0m \u001b[38;5;28;01mfrom\u001b[39;00m \u001b[38;5;21;01mwarnings\u001b[39;00m \u001b[38;5;28;01mimport\u001b[39;00m warn\n\u001b[1;32m----> 8\u001b[0m \u001b[38;5;28;01mimport\u001b[39;00m \u001b[38;5;21;01mtorch\u001b[39;00m\n\u001b[0;32m     10\u001b[0m \u001b[38;5;28;01mfrom\u001b[39;00m \u001b[38;5;21;01mtensordict\u001b[39;00m \u001b[38;5;28;01mimport\u001b[39;00m set_lazy_legacy\n\u001b[0;32m     12\u001b[0m \u001b[38;5;28;01mfrom\u001b[39;00m \u001b[38;5;21;01mtorch\u001b[39;00m \u001b[38;5;28;01mimport\u001b[39;00m multiprocessing \u001b[38;5;28;01mas\u001b[39;00m mp\n",
      "File \u001b[1;32mc:\\Users\\ASUS\\anaconda3\\envs\\ml\\Lib\\site-packages\\torch\\__init__.py:130\u001b[0m\n\u001b[0;32m    128\u001b[0m     err \u001b[38;5;241m=\u001b[39m ctypes\u001b[38;5;241m.\u001b[39mWinError(last_error)\n\u001b[0;32m    129\u001b[0m     err\u001b[38;5;241m.\u001b[39mstrerror \u001b[38;5;241m+\u001b[39m\u001b[38;5;241m=\u001b[39m \u001b[38;5;124mf\u001b[39m\u001b[38;5;124m'\u001b[39m\u001b[38;5;124m Error loading \u001b[39m\u001b[38;5;124m\"\u001b[39m\u001b[38;5;132;01m{\u001b[39;00mdll\u001b[38;5;132;01m}\u001b[39;00m\u001b[38;5;124m\"\u001b[39m\u001b[38;5;124m or one of its dependencies.\u001b[39m\u001b[38;5;124m'\u001b[39m\n\u001b[1;32m--> 130\u001b[0m     \u001b[38;5;28;01mraise\u001b[39;00m err\n\u001b[0;32m    131\u001b[0m \u001b[38;5;28;01melif\u001b[39;00m res \u001b[38;5;129;01mis\u001b[39;00m \u001b[38;5;129;01mnot\u001b[39;00m \u001b[38;5;28;01mNone\u001b[39;00m:\n\u001b[0;32m    132\u001b[0m     is_loaded \u001b[38;5;241m=\u001b[39m \u001b[38;5;28;01mTrue\u001b[39;00m\n",
      "\u001b[1;31mOSError\u001b[0m: [WinError 127] The specified procedure could not be found. Error loading \"c:\\Users\\ASUS\\anaconda3\\envs\\ml\\Lib\\site-packages\\torch\\lib\\shm.dll\" or one of its dependencies."
     ]
    }
   ],
   "source": [
    "import torchrl as trl\n",
    "from torchrl.envs.libs.gym import GymEnv\n",
    "import torch\n",
    "import torch.nn as nn"
   ]
  },
  {
   "cell_type": "code",
   "execution_count": null,
   "metadata": {},
   "outputs": [],
   "source": [
    "class DQNModel(nn.Module):\n",
    "    def __init__(self, state_dim, action_dim):\n",
    "        super(DQNModel, self).__init__()\n",
    "        self.fc1 = nn.Linear(state_dim, 64)\n",
    "        self.fc2 = nn.Linear(64, 64)\n",
    "        self.fc3 = nn.Linear(64, action_dim)\n",
    "\n",
    "    def forward(self, x):\n",
    "        x = torch.relu(self.fc1(x))\n",
    "        x = torch.relu(self.fc2(x))\n",
    "        return self.fc3(x)"
   ]
  },
  {
   "cell_type": "code",
   "execution_count": null,
   "metadata": {},
   "outputs": [
    {
     "name": "stdout",
     "output_type": "stream",
     "text": [
      "Using device: cpu\n"
     ]
    },
    {
     "ename": "TypeError",
     "evalue": "argument of type 'UAV_env' is not iterable",
     "output_type": "error",
     "traceback": [
      "\u001b[1;31m---------------------------------------------------------------------------\u001b[0m",
      "\u001b[1;31mTypeError\u001b[0m                                 Traceback (most recent call last)",
      "Cell \u001b[1;32mIn[102], line 4\u001b[0m\n\u001b[0;32m      2\u001b[0m device \u001b[38;5;241m=\u001b[39m torch\u001b[38;5;241m.\u001b[39mdevice(\u001b[38;5;124m\"\u001b[39m\u001b[38;5;124mcuda\u001b[39m\u001b[38;5;124m\"\u001b[39m \u001b[38;5;28;01mif\u001b[39;00m torch\u001b[38;5;241m.\u001b[39mcuda\u001b[38;5;241m.\u001b[39mis_available() \u001b[38;5;28;01melse\u001b[39;00m \u001b[38;5;124m\"\u001b[39m\u001b[38;5;124mcpu\u001b[39m\u001b[38;5;124m\"\u001b[39m)\n\u001b[0;32m      3\u001b[0m \u001b[38;5;28mprint\u001b[39m(\u001b[38;5;124mf\u001b[39m\u001b[38;5;124m\"\u001b[39m\u001b[38;5;124mUsing device: \u001b[39m\u001b[38;5;132;01m{\u001b[39;00mdevice\u001b[38;5;132;01m}\u001b[39;00m\u001b[38;5;124m\"\u001b[39m)\n\u001b[1;32m----> 4\u001b[0m env \u001b[38;5;241m=\u001b[39m \u001b[43mGymEnv\u001b[49m\u001b[43m(\u001b[49m\u001b[43menv\u001b[49m\u001b[43m,\u001b[49m\u001b[43m \u001b[49m\u001b[43mdevice\u001b[49m\u001b[38;5;241;43m=\u001b[39;49m\u001b[43mdevice\u001b[49m\u001b[43m)\u001b[49m\n\u001b[0;32m      6\u001b[0m \u001b[38;5;66;03m# Initialize the DQN model\u001b[39;00m\n\u001b[0;32m      7\u001b[0m state_dim \u001b[38;5;241m=\u001b[39m env\u001b[38;5;241m.\u001b[39mobservation_space\u001b[38;5;241m.\u001b[39mshape[\u001b[38;5;241m0\u001b[39m]\n",
      "File \u001b[1;32mc:\\Users\\ASUS\\anaconda3\\envs\\ml\\Lib\\site-packages\\torchrl\\envs\\libs\\gym.py:543\u001b[0m, in \u001b[0;36m_AsyncMeta.__call__\u001b[1;34m(cls, *args, **kwargs)\u001b[0m\n\u001b[0;32m    542\u001b[0m \u001b[38;5;28;01mdef\u001b[39;00m \u001b[38;5;21m__call__\u001b[39m(\u001b[38;5;28mcls\u001b[39m, \u001b[38;5;241m*\u001b[39margs, \u001b[38;5;241m*\u001b[39m\u001b[38;5;241m*\u001b[39mkwargs):\n\u001b[1;32m--> 543\u001b[0m     instance: GymWrapper \u001b[38;5;241m=\u001b[39m \u001b[38;5;28;43msuper\u001b[39;49m\u001b[43m(\u001b[49m\u001b[43m)\u001b[49m\u001b[38;5;241;43m.\u001b[39;49m\u001b[38;5;21;43m__call__\u001b[39;49m\u001b[43m(\u001b[49m\u001b[38;5;241;43m*\u001b[39;49m\u001b[43margs\u001b[49m\u001b[43m,\u001b[49m\u001b[43m \u001b[49m\u001b[38;5;241;43m*\u001b[39;49m\u001b[38;5;241;43m*\u001b[39;49m\u001b[43mkwargs\u001b[49m\u001b[43m)\u001b[49m\n\u001b[0;32m    545\u001b[0m     \u001b[38;5;66;03m# before gym 0.22, there was no final_observation\u001b[39;00m\n\u001b[0;32m    546\u001b[0m     \u001b[38;5;28;01mif\u001b[39;00m instance\u001b[38;5;241m.\u001b[39m_is_batched:\n",
      "File \u001b[1;32mc:\\Users\\ASUS\\anaconda3\\envs\\ml\\Lib\\site-packages\\torchrl\\envs\\common.py:175\u001b[0m, in \u001b[0;36m_EnvPostInit.__call__\u001b[1;34m(cls, *args, **kwargs)\u001b[0m\n\u001b[0;32m    173\u001b[0m auto_reset \u001b[38;5;241m=\u001b[39m kwargs\u001b[38;5;241m.\u001b[39mpop(\u001b[38;5;124m\"\u001b[39m\u001b[38;5;124mauto_reset\u001b[39m\u001b[38;5;124m\"\u001b[39m, \u001b[38;5;28;01mFalse\u001b[39;00m)\n\u001b[0;32m    174\u001b[0m auto_reset_replace \u001b[38;5;241m=\u001b[39m kwargs\u001b[38;5;241m.\u001b[39mpop(\u001b[38;5;124m\"\u001b[39m\u001b[38;5;124mauto_reset_replace\u001b[39m\u001b[38;5;124m\"\u001b[39m, \u001b[38;5;28;01mTrue\u001b[39;00m)\n\u001b[1;32m--> 175\u001b[0m instance: EnvBase \u001b[38;5;241m=\u001b[39m \u001b[38;5;28;43msuper\u001b[39;49m\u001b[43m(\u001b[49m\u001b[43m)\u001b[49m\u001b[38;5;241;43m.\u001b[39;49m\u001b[38;5;21;43m__call__\u001b[39;49m\u001b[43m(\u001b[49m\u001b[38;5;241;43m*\u001b[39;49m\u001b[43margs\u001b[49m\u001b[43m,\u001b[49m\u001b[43m \u001b[49m\u001b[38;5;241;43m*\u001b[39;49m\u001b[38;5;241;43m*\u001b[39;49m\u001b[43mkwargs\u001b[49m\u001b[43m)\u001b[49m\n\u001b[0;32m    176\u001b[0m \u001b[38;5;66;03m# we create the done spec by adding a done/terminated entry if one is missing\u001b[39;00m\n\u001b[0;32m    177\u001b[0m instance\u001b[38;5;241m.\u001b[39m_create_done_specs()\n",
      "File \u001b[1;32mc:\\Users\\ASUS\\anaconda3\\envs\\ml\\Lib\\site-packages\\torchrl\\envs\\libs\\gym.py:1277\u001b[0m, in \u001b[0;36mGymEnv.__init__\u001b[1;34m(self, env_name, **kwargs)\u001b[0m\n\u001b[0;32m   1275\u001b[0m kwargs[\u001b[38;5;124m\"\u001b[39m\u001b[38;5;124menv_name\u001b[39m\u001b[38;5;124m\"\u001b[39m] \u001b[38;5;241m=\u001b[39m env_name\n\u001b[0;32m   1276\u001b[0m \u001b[38;5;28mself\u001b[39m\u001b[38;5;241m.\u001b[39m_set_gym_args(kwargs)\n\u001b[1;32m-> 1277\u001b[0m \u001b[38;5;28;43msuper\u001b[39;49m\u001b[43m(\u001b[49m\u001b[43m)\u001b[49m\u001b[38;5;241;43m.\u001b[39;49m\u001b[38;5;21;43m__init__\u001b[39;49m\u001b[43m(\u001b[49m\u001b[38;5;241;43m*\u001b[39;49m\u001b[38;5;241;43m*\u001b[39;49m\u001b[43mkwargs\u001b[49m\u001b[43m)\u001b[49m\n",
      "File \u001b[1;32mc:\\Users\\ASUS\\anaconda3\\envs\\ml\\Lib\\site-packages\\torchrl\\envs\\libs\\gym.py:731\u001b[0m, in \u001b[0;36mGymWrapper.__init__\u001b[1;34m(self, env, categorical_action_encoding, **kwargs)\u001b[0m\n\u001b[0;32m    729\u001b[0m         \u001b[38;5;28msuper\u001b[39m()\u001b[38;5;241m.\u001b[39m\u001b[38;5;21m__init__\u001b[39m(\u001b[38;5;241m*\u001b[39m\u001b[38;5;241m*\u001b[39mkwargs)\n\u001b[0;32m    730\u001b[0m \u001b[38;5;28;01melse\u001b[39;00m:\n\u001b[1;32m--> 731\u001b[0m     \u001b[38;5;28;43msuper\u001b[39;49m\u001b[43m(\u001b[49m\u001b[43m)\u001b[49m\u001b[38;5;241;43m.\u001b[39;49m\u001b[38;5;21;43m__init__\u001b[39;49m\u001b[43m(\u001b[49m\u001b[38;5;241;43m*\u001b[39;49m\u001b[38;5;241;43m*\u001b[39;49m\u001b[43mkwargs\u001b[49m\u001b[43m)\u001b[49m\n\u001b[0;32m    732\u001b[0m \u001b[38;5;28mself\u001b[39m\u001b[38;5;241m.\u001b[39m_post_init()\n",
      "File \u001b[1;32mc:\\Users\\ASUS\\anaconda3\\envs\\ml\\Lib\\site-packages\\torchrl\\envs\\common.py:3018\u001b[0m, in \u001b[0;36m_EnvWrapper.__init__\u001b[1;34m(self, device, batch_size, allow_done_after_reset, *args, **kwargs)\u001b[0m\n\u001b[0;32m   3016\u001b[0m \u001b[38;5;28mself\u001b[39m\u001b[38;5;241m.\u001b[39m_constructor_kwargs \u001b[38;5;241m=\u001b[39m kwargs\n\u001b[0;32m   3017\u001b[0m \u001b[38;5;28mself\u001b[39m\u001b[38;5;241m.\u001b[39m_check_kwargs(kwargs)\n\u001b[1;32m-> 3018\u001b[0m \u001b[38;5;28mself\u001b[39m\u001b[38;5;241m.\u001b[39m_env \u001b[38;5;241m=\u001b[39m \u001b[38;5;28;43mself\u001b[39;49m\u001b[38;5;241;43m.\u001b[39;49m\u001b[43m_build_env\u001b[49m\u001b[43m(\u001b[49m\u001b[38;5;241;43m*\u001b[39;49m\u001b[38;5;241;43m*\u001b[39;49m\u001b[43mkwargs\u001b[49m\u001b[43m)\u001b[49m  \u001b[38;5;66;03m# writes the self._env attribute\u001b[39;00m\n\u001b[0;32m   3019\u001b[0m \u001b[38;5;28mself\u001b[39m\u001b[38;5;241m.\u001b[39m_make_specs(\u001b[38;5;28mself\u001b[39m\u001b[38;5;241m.\u001b[39m_env)  \u001b[38;5;66;03m# writes the self._env attribute\u001b[39;00m\n\u001b[0;32m   3020\u001b[0m \u001b[38;5;28mself\u001b[39m\u001b[38;5;241m.\u001b[39mis_closed \u001b[38;5;241m=\u001b[39m \u001b[38;5;28;01mFalse\u001b[39;00m\n",
      "File \u001b[1;32mc:\\Users\\ASUS\\anaconda3\\envs\\ml\\Lib\\site-packages\\torchrl\\envs\\libs\\gym.py:1344\u001b[0m, in \u001b[0;36mGymEnv._build_env\u001b[1;34m(self, env_name, **kwargs)\u001b[0m\n\u001b[0;32m   1342\u001b[0m             kwargs\u001b[38;5;241m.\u001b[39mpop(\u001b[38;5;124m\"\u001b[39m\u001b[38;5;124mrender_mode\u001b[39m\u001b[38;5;124m\"\u001b[39m)\n\u001b[0;32m   1343\u001b[0m         \u001b[38;5;28;01melse\u001b[39;00m:\n\u001b[1;32m-> 1344\u001b[0m             \u001b[38;5;28;01mraise\u001b[39;00m err\n\u001b[0;32m   1345\u001b[0m env \u001b[38;5;241m=\u001b[39m \u001b[38;5;28msuper\u001b[39m()\u001b[38;5;241m.\u001b[39m_build_env(env, pixels_only\u001b[38;5;241m=\u001b[39mpixels_only, from_pixels\u001b[38;5;241m=\u001b[39mfrom_pixels)\n\u001b[0;32m   1346\u001b[0m \u001b[38;5;28;01mif\u001b[39;00m num_envs \u001b[38;5;241m>\u001b[39m \u001b[38;5;241m0\u001b[39m:\n",
      "File \u001b[1;32mc:\\Users\\ASUS\\anaconda3\\envs\\ml\\Lib\\site-packages\\torchrl\\envs\\libs\\gym.py:1329\u001b[0m, in \u001b[0;36mGymEnv._build_env\u001b[1;34m(self, env_name, **kwargs)\u001b[0m\n\u001b[0;32m   1326\u001b[0m \u001b[38;5;28;01mtry\u001b[39;00m:\n\u001b[0;32m   1327\u001b[0m     \u001b[38;5;28;01mwith\u001b[39;00m warnings\u001b[38;5;241m.\u001b[39mcatch_warnings(record\u001b[38;5;241m=\u001b[39m\u001b[38;5;28;01mTrue\u001b[39;00m) \u001b[38;5;28;01mas\u001b[39;00m w:\n\u001b[0;32m   1328\u001b[0m         \u001b[38;5;66;03m# we catch warnings as they may cause silent bugs\u001b[39;00m\n\u001b[1;32m-> 1329\u001b[0m         env \u001b[38;5;241m=\u001b[39m \u001b[38;5;28;43mself\u001b[39;49m\u001b[38;5;241;43m.\u001b[39;49m\u001b[43mlib\u001b[49m\u001b[38;5;241;43m.\u001b[39;49m\u001b[43mmake\u001b[49m\u001b[43m(\u001b[49m\u001b[43menv_name\u001b[49m\u001b[43m,\u001b[49m\u001b[43m \u001b[49m\u001b[38;5;241;43m*\u001b[39;49m\u001b[38;5;241;43m*\u001b[39;49m\u001b[43mkwargs\u001b[49m\u001b[43m)\u001b[49m\n\u001b[0;32m   1330\u001b[0m         \u001b[38;5;28;01mif\u001b[39;00m \u001b[38;5;28mlen\u001b[39m(w) \u001b[38;5;129;01mand\u001b[39;00m \u001b[38;5;124m\"\u001b[39m\u001b[38;5;124mframeskip\u001b[39m\u001b[38;5;124m\"\u001b[39m \u001b[38;5;129;01min\u001b[39;00m \u001b[38;5;28mstr\u001b[39m(w[\u001b[38;5;241m-\u001b[39m\u001b[38;5;241m1\u001b[39m]\u001b[38;5;241m.\u001b[39mmessage):\n\u001b[0;32m   1331\u001b[0m             \u001b[38;5;28;01mraise\u001b[39;00m \u001b[38;5;167;01mTypeError\u001b[39;00m(\u001b[38;5;124m\"\u001b[39m\u001b[38;5;124munexpected keyword argument \u001b[39m\u001b[38;5;124m'\u001b[39m\u001b[38;5;124mframeskip\u001b[39m\u001b[38;5;124m'\u001b[39m\u001b[38;5;124m\"\u001b[39m)\n",
      "File \u001b[1;32mc:\\Users\\ASUS\\anaconda3\\envs\\ml\\Lib\\site-packages\\gym\\envs\\registration.py:537\u001b[0m, in \u001b[0;36mmake\u001b[1;34m(id, max_episode_steps, autoreset, apply_api_compatibility, disable_env_checker, **kwargs)\u001b[0m\n\u001b[0;32m    535\u001b[0m     spec_ \u001b[38;5;241m=\u001b[39m \u001b[38;5;28mid\u001b[39m\n\u001b[0;32m    536\u001b[0m \u001b[38;5;28;01melse\u001b[39;00m:\n\u001b[1;32m--> 537\u001b[0m     module, \u001b[38;5;28mid\u001b[39m \u001b[38;5;241m=\u001b[39m (\u001b[38;5;28;01mNone\u001b[39;00m, \u001b[38;5;28mid\u001b[39m) \u001b[38;5;28;01mif\u001b[39;00m \u001b[38;5;124;43m\"\u001b[39;49m\u001b[38;5;124;43m:\u001b[39;49m\u001b[38;5;124;43m\"\u001b[39;49m\u001b[43m \u001b[49m\u001b[38;5;129;43;01mnot\u001b[39;49;00m\u001b[43m \u001b[49m\u001b[38;5;129;43;01min\u001b[39;49;00m\u001b[43m \u001b[49m\u001b[38;5;28;43mid\u001b[39;49m \u001b[38;5;28;01melse\u001b[39;00m \u001b[38;5;28mid\u001b[39m\u001b[38;5;241m.\u001b[39msplit(\u001b[38;5;124m\"\u001b[39m\u001b[38;5;124m:\u001b[39m\u001b[38;5;124m\"\u001b[39m)\n\u001b[0;32m    538\u001b[0m     \u001b[38;5;28;01mif\u001b[39;00m module \u001b[38;5;129;01mis\u001b[39;00m \u001b[38;5;129;01mnot\u001b[39;00m \u001b[38;5;28;01mNone\u001b[39;00m:\n\u001b[0;32m    539\u001b[0m         \u001b[38;5;28;01mtry\u001b[39;00m:\n",
      "\u001b[1;31mTypeError\u001b[0m: argument of type 'UAV_env' is not iterable"
     ]
    }
   ],
   "source": [
    "# Wrap the environment with torchrl\n",
    "device = torch.device(\"cuda\" if torch.cuda.is_available() else \"cpu\")\n",
    "print(f\"Using device: {device}\")\n",
    "env = GymEnv(env, device=device)\n",
    "\n",
    "# Initialize the DQN model\n",
    "state_dim = env.observation_space.shape[0]\n",
    "action_dim = env.action_space.shape[0]\n",
    "model = DQNModel(state_dim, action_dim).to(device)\n",
    "\n",
    "# Define the DQN agent\n",
    "dqn = trl.agents.DQN(model, env.action_space, device=device)\n",
    "\n",
    "# Set up the optimizer and loss function\n",
    "optimizer = torch.optim.Adam(model.parameters(), lr=1e-3)\n",
    "loss_fn = nn.MSELoss()\n",
    "\n",
    "# Training loop\n",
    "num_episodes = 10\n",
    "for episode in range(num_episodes):\n",
    "    state = env.reset()\n",
    "    done = False\n",
    "    score = 0\n",
    "    while not done:\n",
    "        if env.t == 0:\n",
    "            action = env.U0\n",
    "        else:\n",
    "            action = dqn.act(state)\n",
    "        next_state, reward, done, _ = env.step(action)\n",
    "        dqn.store(state, action, reward, next_state, done)\n",
    "        state = next_state\n",
    "        score += reward\n",
    "\n",
    "        if dqn.should_update():\n",
    "            loss = dqn.update(optimizer, loss_fn)\n",
    "            # Print or log the loss if needed\n",
    "    print('Episode:{} Score:{}'.format(episode+1, score))"
   ]
  }
 ],
 "metadata": {
  "kernelspec": {
   "display_name": "ml",
   "language": "python",
   "name": "python3"
  },
  "language_info": {
   "codemirror_mode": {
    "name": "ipython",
    "version": 3
   },
   "file_extension": ".py",
   "mimetype": "text/x-python",
   "name": "python",
   "nbconvert_exporter": "python",
   "pygments_lexer": "ipython3",
   "version": "3.11.7"
  }
 },
 "nbformat": 4,
 "nbformat_minor": 2
}
