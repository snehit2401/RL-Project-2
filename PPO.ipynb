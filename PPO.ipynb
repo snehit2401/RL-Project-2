{
 "cells": [
  {
   "cell_type": "markdown",
   "id": "5fa5e52d-5b24-4dc0-9b10-729c9e53c379",
   "metadata": {},
   "source": [
    "## PPO implementation for Discrete Space"
   ]
  },
  {
   "cell_type": "markdown",
   "id": "d11581a9-6894-4fb9-b137-c1b51d5440ac",
   "metadata": {},
   "source": [
    "## Setup"
   ]
  },
  {
   "cell_type": "code",
   "execution_count": null,
   "id": "52a8b73f-5510-45b1-8124-1739057e1be6",
   "metadata": {},
   "outputs": [],
   "source": [
    "import pandas as pd\n",
    "from matplotlib import pyplot as plt\n",
    "%matplotlib inline\n",
    "\n",
    "import seaborn as sns\n",
    "\n",
    "# plt.rcParams['figure.dpi'] = 100\n",
    "# plt.rcParams['savefig.dpi'] = 100\n",
    "plt.rcParams['figure.facecolor'] = 'peachpuff'  # [white, peachpuff, wheat]"
   ]
  },
  {
   "cell_type": "code",
   "execution_count": null,
   "id": "975e6358-4edb-4f73-b6d8-65bd855c7f0d",
   "metadata": {},
   "outputs": [],
   "source": []
  },
  {
   "cell_type": "code",
   "execution_count": null,
   "id": "0a9794a5-8fb0-4d8d-829f-23d36053771e",
   "metadata": {},
   "outputs": [],
   "source": []
  },
  {
   "cell_type": "code",
   "execution_count": null,
   "id": "353ae5fd-b6dd-4b3d-aeb5-ca93954fb0f7",
   "metadata": {},
   "outputs": [],
   "source": []
  },
  {
   "cell_type": "code",
   "execution_count": null,
   "id": "dbaedfe5-02ad-431d-bf81-af19dd18968b",
   "metadata": {},
   "outputs": [],
   "source": []
  },
  {
   "cell_type": "code",
   "execution_count": null,
   "id": "9cedca77-a7c4-4049-8a26-f3cc8c256be4",
   "metadata": {},
   "outputs": [],
   "source": []
  },
  {
   "cell_type": "code",
   "execution_count": null,
   "id": "f58364c1-ddf3-4417-a033-a1baac64f716",
   "metadata": {},
   "outputs": [],
   "source": []
  }
 ],
 "metadata": {
  "kernelspec": {
   "display_name": "Python [conda env:rl]",
   "language": "python",
   "name": "conda-env-rl-py"
  },
  "language_info": {
   "codemirror_mode": {
    "name": "ipython",
    "version": 3
   },
   "file_extension": ".py",
   "mimetype": "text/x-python",
   "name": "python",
   "nbconvert_exporter": "python",
   "pygments_lexer": "ipython3",
   "version": "3.10.14"
  }
 },
 "nbformat": 4,
 "nbformat_minor": 5
}
